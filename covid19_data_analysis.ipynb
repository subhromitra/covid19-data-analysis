{
 "cells": [
  {
   "cell_type": "markdown",
   "metadata": {
    "colab_type": "text",
    "id": "ZxWrkQlaTwlQ"
   },
   "source": [
    "<h1 style=\"text-align:center;font-size:50px\">Covid-19 Data Analysis</h1>"
   ]
  },
  {
   "cell_type": "code",
   "execution_count": 165,
   "metadata": {
    "colab": {},
    "colab_type": "code",
    "id": "0j6zN2ki-x3-"
   },
   "outputs": [],
   "source": [
    "# Importing necessary libraries\n",
    "\n",
    "import pandas as pd  # For dataframe manipulations & making queries\n",
    "import numpy as np  # For array based operations\n",
    "import matplotlib.pyplot as plt  # For data visualization \n",
    "import seaborn as sns  # For data visualization\n",
    "\n",
    "# Display all columns of the dataframe\n",
    "pd.pandas.set_option('display.max_columns', None)\n",
    "\n",
    "# Setting global parameters for data-visualization\n",
    "sns.set(style='darkgrid')\n",
    "plt.rcParams[\"figure.figsize\"] = (12,5)"
   ]
  },
  {
   "cell_type": "markdown",
   "metadata": {
    "colab_type": "text",
    "id": "pcBYIUo0AMaf"
   },
   "source": [
    "<h1>1) Data Loading</h1>\n",
    "\n",
    "**The data is stored in a csv file. I will be using pandas library to load the file.**"
   ]
  },
  {
   "cell_type": "code",
   "execution_count": 149,
   "metadata": {
    "colab": {
     "base_uri": "https://localhost:8080/",
     "height": 305
    },
    "colab_type": "code",
    "id": "MDOVC7kC_A7a",
    "outputId": "04021ae0-eaa9-4549-861d-177893dd3dca"
   },
   "outputs": [
    {
     "data": {
      "text/html": [
       "<div>\n",
       "<style scoped>\n",
       "    .dataframe tbody tr th:only-of-type {\n",
       "        vertical-align: middle;\n",
       "    }\n",
       "\n",
       "    .dataframe tbody tr th {\n",
       "        vertical-align: top;\n",
       "    }\n",
       "\n",
       "    .dataframe thead th {\n",
       "        text-align: right;\n",
       "    }\n",
       "</style>\n",
       "<table border=\"1\" class=\"dataframe\">\n",
       "  <thead>\n",
       "    <tr style=\"text-align: right;\">\n",
       "      <th></th>\n",
       "      <th>iso_code</th>\n",
       "      <th>continent</th>\n",
       "      <th>location</th>\n",
       "      <th>date</th>\n",
       "      <th>total_cases</th>\n",
       "      <th>new_cases</th>\n",
       "      <th>total_deaths</th>\n",
       "      <th>new_deaths</th>\n",
       "      <th>total_cases_per_million</th>\n",
       "      <th>new_cases_per_million</th>\n",
       "      <th>total_deaths_per_million</th>\n",
       "      <th>new_deaths_per_million</th>\n",
       "      <th>total_tests</th>\n",
       "      <th>new_tests</th>\n",
       "      <th>total_tests_per_thousand</th>\n",
       "      <th>new_tests_per_thousand</th>\n",
       "      <th>new_tests_smoothed</th>\n",
       "      <th>new_tests_smoothed_per_thousand</th>\n",
       "      <th>tests_units</th>\n",
       "      <th>stringency_index</th>\n",
       "      <th>population</th>\n",
       "      <th>population_density</th>\n",
       "      <th>median_age</th>\n",
       "      <th>aged_65_older</th>\n",
       "      <th>aged_70_older</th>\n",
       "      <th>gdp_per_capita</th>\n",
       "      <th>extreme_poverty</th>\n",
       "      <th>cvd_death_rate</th>\n",
       "      <th>diabetes_prevalence</th>\n",
       "      <th>female_smokers</th>\n",
       "      <th>male_smokers</th>\n",
       "      <th>handwashing_facilities</th>\n",
       "      <th>hospital_beds_per_thousand</th>\n",
       "      <th>life_expectancy</th>\n",
       "    </tr>\n",
       "  </thead>\n",
       "  <tbody>\n",
       "    <tr>\n",
       "      <th>0</th>\n",
       "      <td>AFG</td>\n",
       "      <td>Asia</td>\n",
       "      <td>Afghanistan</td>\n",
       "      <td>2019-12-31</td>\n",
       "      <td>0.0</td>\n",
       "      <td>0.0</td>\n",
       "      <td>0.0</td>\n",
       "      <td>0.0</td>\n",
       "      <td>0.0</td>\n",
       "      <td>0.0</td>\n",
       "      <td>0.0</td>\n",
       "      <td>0.0</td>\n",
       "      <td>NaN</td>\n",
       "      <td>NaN</td>\n",
       "      <td>NaN</td>\n",
       "      <td>NaN</td>\n",
       "      <td>NaN</td>\n",
       "      <td>NaN</td>\n",
       "      <td>NaN</td>\n",
       "      <td>NaN</td>\n",
       "      <td>38928341.0</td>\n",
       "      <td>54.422</td>\n",
       "      <td>18.6</td>\n",
       "      <td>2.581</td>\n",
       "      <td>1.337</td>\n",
       "      <td>1803.987</td>\n",
       "      <td>NaN</td>\n",
       "      <td>597.029</td>\n",
       "      <td>9.59</td>\n",
       "      <td>NaN</td>\n",
       "      <td>NaN</td>\n",
       "      <td>37.746</td>\n",
       "      <td>0.5</td>\n",
       "      <td>64.83</td>\n",
       "    </tr>\n",
       "    <tr>\n",
       "      <th>1</th>\n",
       "      <td>AFG</td>\n",
       "      <td>Asia</td>\n",
       "      <td>Afghanistan</td>\n",
       "      <td>2020-01-01</td>\n",
       "      <td>0.0</td>\n",
       "      <td>0.0</td>\n",
       "      <td>0.0</td>\n",
       "      <td>0.0</td>\n",
       "      <td>0.0</td>\n",
       "      <td>0.0</td>\n",
       "      <td>0.0</td>\n",
       "      <td>0.0</td>\n",
       "      <td>NaN</td>\n",
       "      <td>NaN</td>\n",
       "      <td>NaN</td>\n",
       "      <td>NaN</td>\n",
       "      <td>NaN</td>\n",
       "      <td>NaN</td>\n",
       "      <td>NaN</td>\n",
       "      <td>0.0</td>\n",
       "      <td>38928341.0</td>\n",
       "      <td>54.422</td>\n",
       "      <td>18.6</td>\n",
       "      <td>2.581</td>\n",
       "      <td>1.337</td>\n",
       "      <td>1803.987</td>\n",
       "      <td>NaN</td>\n",
       "      <td>597.029</td>\n",
       "      <td>9.59</td>\n",
       "      <td>NaN</td>\n",
       "      <td>NaN</td>\n",
       "      <td>37.746</td>\n",
       "      <td>0.5</td>\n",
       "      <td>64.83</td>\n",
       "    </tr>\n",
       "    <tr>\n",
       "      <th>2</th>\n",
       "      <td>AFG</td>\n",
       "      <td>Asia</td>\n",
       "      <td>Afghanistan</td>\n",
       "      <td>2020-01-02</td>\n",
       "      <td>0.0</td>\n",
       "      <td>0.0</td>\n",
       "      <td>0.0</td>\n",
       "      <td>0.0</td>\n",
       "      <td>0.0</td>\n",
       "      <td>0.0</td>\n",
       "      <td>0.0</td>\n",
       "      <td>0.0</td>\n",
       "      <td>NaN</td>\n",
       "      <td>NaN</td>\n",
       "      <td>NaN</td>\n",
       "      <td>NaN</td>\n",
       "      <td>NaN</td>\n",
       "      <td>NaN</td>\n",
       "      <td>NaN</td>\n",
       "      <td>0.0</td>\n",
       "      <td>38928341.0</td>\n",
       "      <td>54.422</td>\n",
       "      <td>18.6</td>\n",
       "      <td>2.581</td>\n",
       "      <td>1.337</td>\n",
       "      <td>1803.987</td>\n",
       "      <td>NaN</td>\n",
       "      <td>597.029</td>\n",
       "      <td>9.59</td>\n",
       "      <td>NaN</td>\n",
       "      <td>NaN</td>\n",
       "      <td>37.746</td>\n",
       "      <td>0.5</td>\n",
       "      <td>64.83</td>\n",
       "    </tr>\n",
       "    <tr>\n",
       "      <th>3</th>\n",
       "      <td>AFG</td>\n",
       "      <td>Asia</td>\n",
       "      <td>Afghanistan</td>\n",
       "      <td>2020-01-03</td>\n",
       "      <td>0.0</td>\n",
       "      <td>0.0</td>\n",
       "      <td>0.0</td>\n",
       "      <td>0.0</td>\n",
       "      <td>0.0</td>\n",
       "      <td>0.0</td>\n",
       "      <td>0.0</td>\n",
       "      <td>0.0</td>\n",
       "      <td>NaN</td>\n",
       "      <td>NaN</td>\n",
       "      <td>NaN</td>\n",
       "      <td>NaN</td>\n",
       "      <td>NaN</td>\n",
       "      <td>NaN</td>\n",
       "      <td>NaN</td>\n",
       "      <td>0.0</td>\n",
       "      <td>38928341.0</td>\n",
       "      <td>54.422</td>\n",
       "      <td>18.6</td>\n",
       "      <td>2.581</td>\n",
       "      <td>1.337</td>\n",
       "      <td>1803.987</td>\n",
       "      <td>NaN</td>\n",
       "      <td>597.029</td>\n",
       "      <td>9.59</td>\n",
       "      <td>NaN</td>\n",
       "      <td>NaN</td>\n",
       "      <td>37.746</td>\n",
       "      <td>0.5</td>\n",
       "      <td>64.83</td>\n",
       "    </tr>\n",
       "    <tr>\n",
       "      <th>4</th>\n",
       "      <td>AFG</td>\n",
       "      <td>Asia</td>\n",
       "      <td>Afghanistan</td>\n",
       "      <td>2020-01-04</td>\n",
       "      <td>0.0</td>\n",
       "      <td>0.0</td>\n",
       "      <td>0.0</td>\n",
       "      <td>0.0</td>\n",
       "      <td>0.0</td>\n",
       "      <td>0.0</td>\n",
       "      <td>0.0</td>\n",
       "      <td>0.0</td>\n",
       "      <td>NaN</td>\n",
       "      <td>NaN</td>\n",
       "      <td>NaN</td>\n",
       "      <td>NaN</td>\n",
       "      <td>NaN</td>\n",
       "      <td>NaN</td>\n",
       "      <td>NaN</td>\n",
       "      <td>0.0</td>\n",
       "      <td>38928341.0</td>\n",
       "      <td>54.422</td>\n",
       "      <td>18.6</td>\n",
       "      <td>2.581</td>\n",
       "      <td>1.337</td>\n",
       "      <td>1803.987</td>\n",
       "      <td>NaN</td>\n",
       "      <td>597.029</td>\n",
       "      <td>9.59</td>\n",
       "      <td>NaN</td>\n",
       "      <td>NaN</td>\n",
       "      <td>37.746</td>\n",
       "      <td>0.5</td>\n",
       "      <td>64.83</td>\n",
       "    </tr>\n",
       "  </tbody>\n",
       "</table>\n",
       "</div>"
      ],
      "text/plain": [
       "  iso_code continent     location        date  total_cases  new_cases  \\\n",
       "0      AFG      Asia  Afghanistan  2019-12-31          0.0        0.0   \n",
       "1      AFG      Asia  Afghanistan  2020-01-01          0.0        0.0   \n",
       "2      AFG      Asia  Afghanistan  2020-01-02          0.0        0.0   \n",
       "3      AFG      Asia  Afghanistan  2020-01-03          0.0        0.0   \n",
       "4      AFG      Asia  Afghanistan  2020-01-04          0.0        0.0   \n",
       "\n",
       "   total_deaths  new_deaths  total_cases_per_million  new_cases_per_million  \\\n",
       "0           0.0         0.0                      0.0                    0.0   \n",
       "1           0.0         0.0                      0.0                    0.0   \n",
       "2           0.0         0.0                      0.0                    0.0   \n",
       "3           0.0         0.0                      0.0                    0.0   \n",
       "4           0.0         0.0                      0.0                    0.0   \n",
       "\n",
       "   total_deaths_per_million  new_deaths_per_million  total_tests  new_tests  \\\n",
       "0                       0.0                     0.0          NaN        NaN   \n",
       "1                       0.0                     0.0          NaN        NaN   \n",
       "2                       0.0                     0.0          NaN        NaN   \n",
       "3                       0.0                     0.0          NaN        NaN   \n",
       "4                       0.0                     0.0          NaN        NaN   \n",
       "\n",
       "   total_tests_per_thousand  new_tests_per_thousand  new_tests_smoothed  \\\n",
       "0                       NaN                     NaN                 NaN   \n",
       "1                       NaN                     NaN                 NaN   \n",
       "2                       NaN                     NaN                 NaN   \n",
       "3                       NaN                     NaN                 NaN   \n",
       "4                       NaN                     NaN                 NaN   \n",
       "\n",
       "   new_tests_smoothed_per_thousand tests_units  stringency_index  population  \\\n",
       "0                              NaN         NaN               NaN  38928341.0   \n",
       "1                              NaN         NaN               0.0  38928341.0   \n",
       "2                              NaN         NaN               0.0  38928341.0   \n",
       "3                              NaN         NaN               0.0  38928341.0   \n",
       "4                              NaN         NaN               0.0  38928341.0   \n",
       "\n",
       "   population_density  median_age  aged_65_older  aged_70_older  \\\n",
       "0              54.422        18.6          2.581          1.337   \n",
       "1              54.422        18.6          2.581          1.337   \n",
       "2              54.422        18.6          2.581          1.337   \n",
       "3              54.422        18.6          2.581          1.337   \n",
       "4              54.422        18.6          2.581          1.337   \n",
       "\n",
       "   gdp_per_capita  extreme_poverty  cvd_death_rate  diabetes_prevalence  \\\n",
       "0        1803.987              NaN         597.029                 9.59   \n",
       "1        1803.987              NaN         597.029                 9.59   \n",
       "2        1803.987              NaN         597.029                 9.59   \n",
       "3        1803.987              NaN         597.029                 9.59   \n",
       "4        1803.987              NaN         597.029                 9.59   \n",
       "\n",
       "   female_smokers  male_smokers  handwashing_facilities  \\\n",
       "0             NaN           NaN                  37.746   \n",
       "1             NaN           NaN                  37.746   \n",
       "2             NaN           NaN                  37.746   \n",
       "3             NaN           NaN                  37.746   \n",
       "4             NaN           NaN                  37.746   \n",
       "\n",
       "   hospital_beds_per_thousand  life_expectancy  \n",
       "0                         0.5            64.83  \n",
       "1                         0.5            64.83  \n",
       "2                         0.5            64.83  \n",
       "3                         0.5            64.83  \n",
       "4                         0.5            64.83  "
      ]
     },
     "execution_count": 149,
     "metadata": {
      "tags": []
     },
     "output_type": "execute_result"
    }
   ],
   "source": [
    "file_name = \"owid-covid-data.csv\"\n",
    "\n",
    "# Loading CSV file\n",
    "df = pd.read_csv(file_name)\n",
    "\n",
    "# Displaying the first 5 rows of the dataset\n",
    "df.head()"
   ]
  },
  {
   "cell_type": "markdown",
   "metadata": {
    "colab_type": "text",
    "id": "sD2uvr3wBGlJ"
   },
   "source": [
    "<h1>2) Checking dimensionality</h1>\n",
    "\n",
    "**Now lets find out the dimensionality of data.**"
   ]
  },
  {
   "cell_type": "code",
   "execution_count": 150,
   "metadata": {
    "colab": {
     "base_uri": "https://localhost:8080/",
     "height": 52
    },
    "colab_type": "code",
    "id": "VOXbCR-OAr4n",
    "outputId": "868ab44e-93c7-4102-9a86-5aa58394fa58"
   },
   "outputs": [
    {
     "name": "stdout",
     "output_type": "stream",
     "text": [
      "No.of rows in dataset :- 27381\n",
      "No.of columns in dataset :- 34\n"
     ]
    }
   ],
   "source": [
    "print(\"No.of rows in dataset :- {}\".format(df.shape[0]))\n",
    "print(\"No.of columns in dataset :- {}\".format(df.shape[1]))"
   ]
  },
  {
   "cell_type": "markdown",
   "metadata": {
    "colab_type": "text",
    "id": "Z5RlOy-JBzlo"
   },
   "source": [
    "<h1>3) Exploratory Data Analysis</h1>\n",
    "<br>\n",
    "\n",
    "**This would involve making basic queries to get an overview of the data.**\n",
    "\n",
    "- High level overview of data in all columns.\n",
    "- Span of observations\n",
    "- Country with highest & lowest no.of total cases\n",
    "- Comparing different countries on the basis of no.of total cases\n",
    "- Country with highest & lowest no.of casualties\n",
    "- Comparing different countries on the basis of no.of casualties\n",
    "- Country with highest & lowest no.of hospital beds per thousand\n",
    "- Comparing different countries on the basis of no.of hospital beds per thousand"
   ]
  },
  {
   "cell_type": "markdown",
   "metadata": {},
   "source": [
    "<h3>3.1) High level overview of data in all columns</h3>"
   ]
  },
  {
   "cell_type": "code",
   "execution_count": null,
   "metadata": {
    "colab": {
     "base_uri": "https://localhost:8080/",
     "height": 726
    },
    "colab_type": "code",
    "id": "EX0wXbMyCPNJ",
    "outputId": "99c79784-dd97-44a1-99dc-7ef301071013"
   },
   "outputs": [
    {
     "name": "stdout",
     "output_type": "stream",
     "text": [
      "<class 'pandas.core.frame.DataFrame'>\n",
      "RangeIndex: 27381 entries, 0 to 27380\n",
      "Data columns (total 34 columns):\n",
      " #   Column                           Non-Null Count  Dtype  \n",
      "---  ------                           --------------  -----  \n",
      " 0   iso_code                         27317 non-null  object \n",
      " 1   continent                        27133 non-null  object \n",
      " 2   location                         27381 non-null  object \n",
      " 3   date                             27381 non-null  object \n",
      " 4   total_cases                      27166 non-null  float64\n",
      " 5   new_cases                        27166 non-null  float64\n",
      " 6   total_deaths                     27166 non-null  float64\n",
      " 7   new_deaths                       27166 non-null  float64\n",
      " 8   total_cases_per_million          27102 non-null  float64\n",
      " 9   new_cases_per_million            27102 non-null  float64\n",
      " 10  total_deaths_per_million         27102 non-null  float64\n",
      " 11  new_deaths_per_million           27102 non-null  float64\n",
      " 12  total_tests                      7755 non-null   float64\n",
      " 13  new_tests                        7069 non-null   float64\n",
      " 14  total_tests_per_thousand         7755 non-null   float64\n",
      " 15  new_tests_per_thousand           7069 non-null   float64\n",
      " 16  new_tests_smoothed               8385 non-null   float64\n",
      " 17  new_tests_smoothed_per_thousand  8385 non-null   float64\n",
      " 18  tests_units                      9004 non-null   object \n",
      " 19  stringency_index                 21925 non-null  float64\n",
      " 20  population                       27317 non-null  float64\n",
      " 21  population_density               26183 non-null  float64\n",
      " 22  median_age                       24724 non-null  float64\n",
      " 23  aged_65_older                    24373 non-null  float64\n",
      " 24  aged_70_older                    24597 non-null  float64\n",
      " 25  gdp_per_capita                   24443 non-null  float64\n",
      " 26  extreme_poverty                  16335 non-null  float64\n",
      " 27  cvd_death_rate                   24754 non-null  float64\n",
      " 28  diabetes_prevalence              25559 non-null  float64\n",
      " 29  female_smokers                   19809 non-null  float64\n",
      " 30  male_smokers                     19579 non-null  float64\n",
      " 31  handwashing_facilities           11178 non-null  float64\n",
      " 32  hospital_beds_per_thousand       22613 non-null  float64\n",
      " 33  life_expectancy                  26999 non-null  float64\n",
      "dtypes: float64(29), object(5)\n",
      "memory usage: 7.1+ MB\n"
     ]
    }
   ],
   "source": [
    "df.info()"
   ]
  },
  {
   "cell_type": "markdown",
   "metadata": {
    "colab_type": "text",
    "id": "4Svydq9CCdA4"
   },
   "source": [
    "**We can see that other than location & date columns rest of the columns have missing values.**"
   ]
  },
  {
   "cell_type": "markdown",
   "metadata": {},
   "source": [
    "<h3>3.2) Span of observations</h3>\n",
    "\n",
    "**This is the no.of days for which the data was recorded.**"
   ]
  },
  {
   "cell_type": "code",
   "execution_count": null,
   "metadata": {
    "colab": {
     "base_uri": "https://localhost:8080/",
     "height": 34
    },
    "colab_type": "code",
    "id": "sgBqYqUwCDQs",
    "outputId": "948919a6-240d-4136-fedb-3fde98feed19"
   },
   "outputs": [
    {
     "name": "stdout",
     "output_type": "stream",
     "text": [
      "No.of observations per country :- 184\n"
     ]
    }
   ],
   "source": [
    "print(\"No.of observations per country :- {}\".format(len(list(df['date'].unique()))))"
   ]
  },
  {
   "cell_type": "code",
   "execution_count": 132,
   "metadata": {
    "colab": {},
    "colab_type": "code",
    "id": "LUYATVo8MDoa"
   },
   "outputs": [],
   "source": [
    "# Utility functions\n",
    "def find_highest_vals(df, attribute):\n",
    "\"\"\"\n",
    "Input :- Dataframe, Attribute (column name)\n",
    "Output :- Highest values in the given column for the given dataset\n",
    "\"\"\"\n",
    "  hi_attr_country = df.loc[df[attribute].idxmax()]['location']\n",
    "  hi_attr_num = df.loc[df[attribute].idxmax()][attribute]\n",
    "\n",
    "  return (hi_attr_country, hi_attr_num)\n",
    "\n",
    "\n",
    "def find_least_vals(df, attribute):\n",
    "\"\"\"\n",
    "Input :- Dataframe, Attribute (column name)\n",
    "Output :- Least values in the given column for the given dataset\n",
    "\"\"\"    \n",
    "  low_attr_country = df.loc[df[attribute].idxmin()]['location']\n",
    "  low_attr_num = df.loc[df[attribute].idxmin()][attribute]\n",
    "\n",
    "  return (low_attr_country, low_attr_num)"
   ]
  },
  {
   "cell_type": "code",
   "execution_count": 151,
   "metadata": {
    "colab": {},
    "colab_type": "code",
    "id": "HBvlm46tNQ2x"
   },
   "outputs": [],
   "source": [
    "# Slicing dataframe to take appropriate rows\n",
    "df = df.drop(df.index[27135:])\n",
    "df = df[df.location != 'World']\n",
    "\n",
    "# Selecting only last observations for each country \n",
    "df_last_obs = df[df['date'] == '2020-07-01']\n",
    "\n",
    "df_selected = df_last_obs[df_last_obs['location'].isin([\"India\", \"Russia\", \"United States\",\n",
    "                                                        \"Brazil\", \"China\", \"Japan\", \"United Kingdom\",\n",
    "                                                        \"South Korea\", \"France\", \"Italy\"])]                                                                                              "
   ]
  },
  {
   "cell_type": "markdown",
   "metadata": {},
   "source": [
    "<h3>3.3) Country with highest & lowest no.of Covid-19 cases</h3>"
   ]
  },
  {
   "cell_type": "code",
   "execution_count": 133,
   "metadata": {
    "colab": {
     "base_uri": "https://localhost:8080/",
     "height": 52
    },
    "colab_type": "code",
    "id": "6sRrAw2zNUXF",
    "outputId": "bfa1799c-27fb-4817-8115-21e85dd811b7"
   },
   "outputs": [
    {
     "name": "stdout",
     "output_type": "stream",
     "text": [
      "United States has the highest no.of total cases with 2634432 people affected\n",
      "Anguilla has the lowest no.of total cases with only 3 people affected\n"
     ]
    }
   ],
   "source": [
    "hi_cases_country, hi_cases_num = find_highest_vals(df_last_obs, 'total_cases')\n",
    "print(\"{} has the highest no.of total cases with {} people affected\".format(hi_cases_country,\n",
    "                                                                            int(hi_cases_num)))\n",
    "\n",
    "low_cases_country, low_cases_num = find_least_vals(df_last_obs, 'total_cases')\n",
    "print(\"{} has the lowest no.of total cases with only {} people affected\".format(low_cases_country,\n",
    "                                                                          int(low_cases_num)))"
   ]
  },
  {
   "cell_type": "markdown",
   "metadata": {},
   "source": [
    "<h3>3.4) How were some other countries affected ?</h3>"
   ]
  },
  {
   "cell_type": "code",
   "execution_count": 168,
   "metadata": {
    "colab": {
     "base_uri": "https://localhost:8080/",
     "height": 355
    },
    "colab_type": "code",
    "id": "m7c2oCwRcSHr",
    "outputId": "8f666bef-6027-479c-be13-27bb51bb4a64"
   },
   "outputs": [
    {
     "data": {
      "image/png": "[encoded data removed]",
      "text/plain": [
       "<Figure size 864x360 with 1 Axes>"
      ]
     },
     "metadata": {
      "tags": []
     },
     "output_type": "display_data"
    }
   ],
   "source": [
    "df_sorted_by_cases = df_selected.sort_values(['total_cases'],\n",
    "                                             ascending=False).reset_index(drop=True)\n",
    "sns.barplot(x=\"location\", y=\"total_cases\", data=df_sorted_by_cases, edgecolor=(0,0,0))\n",
    "plt.title(\"Total cases in some other countries\")\n",
    "plt.show()"
   ]
  },
  {
   "cell_type": "markdown",
   "metadata": {},
   "source": [
    "**Observations :-**\n",
    "\n",
    "- USA, Brazil are the most affected.\n",
    "- Japan, South Korea are least affected."
   ]
  },
  {
   "cell_type": "markdown",
   "metadata": {},
   "source": [
    "<h3>3.5) Country with highest & lowest no.of casualties</h3>"
   ]
  },
  {
   "cell_type": "code",
   "execution_count": 135,
   "metadata": {
    "colab": {
     "base_uri": "https://localhost:8080/",
     "height": 52
    },
    "colab_type": "code",
    "id": "qS39A932cVT2",
    "outputId": "678cb515-8834-42fa-af67-e8c9fd29b347"
   },
   "outputs": [
    {
     "name": "stdout",
     "output_type": "stream",
     "text": [
      "United States has the highest no.of casualties with 127410 people deceased\n",
      "Anguilla has the lowest no.of total cases with only 0 people deceased\n"
     ]
    }
   ],
   "source": [
    "# Highest no.of casualties\n",
    "hi_casualties_country, hi_casualties_num = find_highest_vals(df_last_obs, 'total_deaths')\n",
    "print(\"{} has the highest no.of casualties with {} people deceased\".format(hi_casualties_country,\n",
    "                                                                            int(hi_casualties_num)))\n",
    "# Least no.of casualties\n",
    "low_casualties_country, low_casualties_num = find_least_vals(df_last_obs, 'total_deaths')\n",
    "print(\"{} has the lowest no.of total cases with only {} people deceased\".format(low_casualties_country,\n",
    "                                                                          int(low_casualties_num)))"
   ]
  },
  {
   "cell_type": "markdown",
   "metadata": {},
   "source": [
    "<h3>3.6) Comparing no.of casualties in different countries</h3>"
   ]
  },
  {
   "cell_type": "code",
   "execution_count": 169,
   "metadata": {
    "colab": {
     "base_uri": "https://localhost:8080/",
     "height": 355
    },
    "colab_type": "code",
    "id": "zP3_qGmjmoAc",
    "outputId": "de4b59c0-18e6-477c-f2b1-bf5d419c84c8"
   },
   "outputs": [
    {
     "data": {
      "image/png": "[encoded data removed]",
      "text/plain": [
       "<Figure size 864x360 with 1 Axes>"
      ]
     },
     "metadata": {
      "tags": []
     },
     "output_type": "display_data"
    }
   ],
   "source": [
    "df_sorted_by_deceased = df_selected.sort_values(['total_deaths'],\n",
    "                                             ascending=False).reset_index(drop=True)\n",
    "sns.barplot(x=\"location\", y=\"total_deaths\", data=df_sorted_by_deceased, edgecolor=(0,0,0))\n",
    "plt.title(\"Total casualties in some other countries\")\n",
    "plt.show()"
   ]
  },
  {
   "cell_type": "markdown",
   "metadata": {},
   "source": [
    "**Observation :-**\n",
    "\n",
    "Similar to above observation here also we see\n",
    "\n",
    "- USA, Brazil to have most no.of casualties.\n",
    "- Japan, South Korea to have least no.of casualties."
   ]
  },
  {
   "cell_type": "markdown",
   "metadata": {},
   "source": [
    "<h3>3.7) Country with highest & lowest no.of hospital beds per thousand</h3>\n",
    "\n",
    "We can use no.of hospital beds per thousand as a metric to find out how countries were prepared to face a pandemic situation."
   ]
  },
  {
   "cell_type": "code",
   "execution_count": 15,
   "metadata": {
    "colab": {
     "base_uri": "https://localhost:8080/",
     "height": 52
    },
    "colab_type": "code",
    "id": "eirDMl3Mg5tL",
    "outputId": "88540618-4efa-4bdf-ecde-8ccd72eb9d2c"
   },
   "outputs": [
    {
     "name": "stdout",
     "output_type": "stream",
     "text": [
      "Monaco has the highest no.of hospital beds with 13 per thousand of population\n",
      "Mali has the lowest no.of hospital beds with only 0 peor thousand of population\n"
     ]
    }
   ],
   "source": [
    "# Highest no.of hospital beds\n",
    "hi_hosp_beds_country, hi_hosp_beds_num = find_highest_vals(df_last_obs, 'hospital_beds_per_thousand')\n",
    "print(\"{} has the highest no.of hospital beds with {} per thousand of population\".format(hi_hosp_beds_country,\n",
    "                                                                            int(hi_hosp_beds_num)))\n",
    "# Least no.of hospital beds\n",
    "low_hosp_beds_country, low_hosp_beds_num = find_least_vals(df_last_obs, 'hospital_beds_per_thousand')\n",
    "print(\"{} has the lowest no.of hospital beds with only {} peor thousand of population\".format(low_hosp_beds_country,\n",
    "                                                                          int(low_hosp_beds_num)))"
   ]
  },
  {
   "cell_type": "markdown",
   "metadata": {},
   "source": [
    "**Monaco being a very small but rich country should not surprise anyone for having most no.of hospital beds per thousand.**"
   ]
  },
  {
   "cell_type": "markdown",
   "metadata": {},
   "source": [
    "<h3>3.8) Comparison of no.of medical treatment facilities in different countries</h3>"
   ]
  },
  {
   "cell_type": "code",
   "execution_count": 171,
   "metadata": {
    "colab": {
     "base_uri": "https://localhost:8080/",
     "height": 355
    },
    "colab_type": "code",
    "id": "tJQuJfSsnHUD",
    "outputId": "283f9ee9-346a-40d1-a1e6-a54bc5ab50c7"
   },
   "outputs": [
    {
     "data": {
      "image/png": "[encoded data removed]",
      "text/plain": [
       "<Figure size 864x360 with 1 Axes>"
      ]
     },
     "metadata": {
      "tags": []
     },
     "output_type": "display_data"
    }
   ],
   "source": [
    "df_sorted_by_hosp_beds = df_selected.sort_values(['hospital_beds_per_thousand'],\n",
    "                                             ascending=False).reset_index(drop=True)\n",
    "sns.barplot(x=\"location\", y='hospital_beds_per_thousand', data=df_sorted_by_hosp_beds, edgecolor=(0,0,0))\n",
    "plt.title(\"No.of hospital beds per thousand in some other countries\")\n",
    "plt.show()"
   ]
  },
  {
   "cell_type": "markdown",
   "metadata": {},
   "source": [
    "**Observations :-**\n",
    "\n",
    "- Japan, South Korea have the highest no.of beds per thousand among the selected coutries observed.\n",
    "- India, Brazil have the lowest."
   ]
  },
  {
   "cell_type": "markdown",
   "metadata": {
    "colab_type": "text",
    "id": "KhUy6AnjrWjI"
   },
   "source": [
    "<h2>Overall observations :-</h2>\n",
    "<br>\n",
    "\n",
    "- **USA, Brazil are among the worst affected countries as of 1st July 2020.**\n",
    "<br>\n",
    "\n",
    "- **South Korea & Japan have the lowest no.of people affected & hence lowest in terms of casualties. This is an eye-opening observation given the close proximity of both countries to China (origin of Covid-19 virus).**\n",
    "<br>\n",
    "\n",
    "- **We also observe that these two countries have the highest no.of hospital beds per thousand of population. Hence from the given data, we may roughly that these countries were better prepared for handling such a pandemic situation.**\n",
    "<br>\n",
    "\n",
    "- **Even though China & India roughly have the same population, India lags so much behind China in terms of medical preparedness for dealing with such a pandemic situation. This is a matter of concern.**"
   ]
  },
  {
   "cell_type": "markdown",
   "metadata": {
    "colab_type": "text",
    "id": "3fT-f2VHEgt3"
   },
   "source": [
    "<h1>4) Finding missing values </h1>"
   ]
  },
  {
   "cell_type": "code",
   "execution_count": 77,
   "metadata": {
    "colab": {},
    "colab_type": "code",
    "id": "XMrWAhTaGb1t"
   },
   "outputs": [],
   "source": [
    "# Utility function\n",
    "def Sort(li):\n",
    "  \"\"\"\n",
    "  Input :- List of lists\n",
    "  E.g :- [['abc',5], ['def','7'],['ghi',9]]\n",
    "  \n",
    "  Output :- List of lists in sorted order w.r.t second element of every internal element.\n",
    "  E.g :- [['ghi',9], ['def',7], ['abc',5]]\n",
    "  \"\"\"\n",
    "  return sorted(li, key=lambda x:x[1], reverse=True)"
   ]
  },
  {
   "cell_type": "code",
   "execution_count": 96,
   "metadata": {
    "colab": {
     "base_uri": "https://localhost:8080/",
     "height": 518
    },
    "colab_type": "code",
    "id": "K17lrMPCEhLz",
    "outputId": "503e4ff2-28ae-423c-ec21-c67b3b07ad57"
   },
   "outputs": [
    {
     "name": "stdout",
     "output_type": "stream",
     "text": [
      "73.9469 % values missing in new_tests column\n",
      "73.9469 % values missing in new_tests_per_thousand column\n",
      "71.4186 % values missing in total_tests column\n",
      "71.4186 % values missing in total_tests_per_thousand column\n",
      "69.0967 % values missing in new_tests_smoothed column\n",
      "69.0967 % values missing in new_tests_smoothed_per_thousand column\n",
      "66.8153 % values missing in tests_units column\n",
      "59.4811 % values missing in handwashing_facilities column\n",
      "40.4747 % values missing in extreme_poverty column\n",
      "28.5188 % values missing in male_smokers column\n",
      "27.6711 % values missing in female_smokers column\n",
      "19.1943 % values missing in stringency_index column\n",
      "17.3368 % values missing in hospital_beds_per_thousand column\n",
      "10.8503 % values missing in aged_65_older column\n",
      "10.5923 % values missing in gdp_per_capita column\n",
      "10.0247 % values missing in aged_70_older column\n",
      "9.5566 % values missing in median_age column\n",
      "9.4461 % values missing in cvd_death_rate column\n",
      "6.4792 % values missing in diabetes_prevalence column\n",
      "4.1794 % values missing in population_density column\n",
      "1.172 % values missing in life_expectancy column\n",
      "0.7924 % values missing in total_cases column\n",
      "0.7924 % values missing in new_cases column\n",
      "0.7924 % values missing in total_deaths column\n",
      "0.7924 % values missing in new_deaths column\n",
      "0.7924 % values missing in total_cases_per_million column\n",
      "0.7924 % values missing in new_cases_per_million column\n",
      "0.7924 % values missing in total_deaths_per_million column\n",
      "0.7924 % values missing in new_deaths_per_million column\n"
     ]
    }
   ],
   "source": [
    "## Here I will check the percentage of nan values present in each feature\n",
    "\n",
    "## 1 -step make the list of features which has missing values\n",
    "features_with_na=[features for features in df.columns if df[features].isnull().sum() > 1]\n",
    "\n",
    "percent_miss_vals = []\n",
    "\n",
    "## 2- Storing percentage of missing values in a list\n",
    "for feature in features_with_na:\n",
    "    percent_miss_vals.append([feature, np.round(df[feature].isnull().mean() * 100, 4)])\n",
    "\n",
    "## 3- Sorting the list in reverse order\n",
    "percent_miss_vals_sorted = Sort(percent_miss_vals)\n",
    "\n",
    "## 4- Printing the list\n",
    "for li in percent_miss_vals_sorted:\n",
    "    print(\"{} % values missing in {} column\".format(li[1], li[0]))"
   ]
  },
  {
   "cell_type": "markdown",
   "metadata": {
    "colab_type": "text",
    "id": "yA0O6o5NXkp5"
   },
   "source": [
    "<h1>5) Dealing with missing values</h1>\n",
    "\n",
    "<br>\n",
    "<h3>5.1) All columns involving tests :-</h3>\n",
    "\n",
    "Since all such columns have very less data hence it is better to drop these columns.\n",
    "\n",
    "<h3>5.2) Stringency index</h3>\n",
    "\n",
    "Stringency index is the **amount of strictness in terms of measures taken by a country to prevent spread of the virus.** The following strategy is used to handle missing values in this column - replace with value in previous row (prev day) if available else place 0. \n",
    "\n",
    "**I have decided to use this strategy after observing a repetitive pattern in the data.**\n",
    "\n",
    "<h3>5.3) Other columns :-</h3>\n",
    "\n",
    "Missing values in remaining columns of the dataset will be replaced by mean of the respective columns."
   ]
  },
  {
   "cell_type": "code",
   "execution_count": 155,
   "metadata": {
    "colab": {
     "base_uri": "https://localhost:8080/",
     "height": 34
    },
    "colab_type": "code",
    "id": "PJzXKhqs6yGk",
    "outputId": "651b307c-b801-4337-8ef1-931f9fdc7948"
   },
   "outputs": [
    {
     "data": {
      "text/plain": [
       "(27133, 27)"
      ]
     },
     "execution_count": 155,
     "metadata": {
      "tags": []
     },
     "output_type": "execute_result"
    }
   ],
   "source": [
    "# Dropping columns with very less data\n",
    "\n",
    "df = df.drop(['new_tests','new_tests_per_thousand',\n",
    "              'total_tests','total_tests_per_thousand',\n",
    "              'new_tests_smoothed','new_tests_smoothed_per_thousand','tests_units'], axis=1)\n",
    "df.shape"
   ]
  },
  {
   "cell_type": "code",
   "execution_count": 156,
   "metadata": {
    "colab": {
     "base_uri": "https://localhost:8080/",
     "height": 34
    },
    "colab_type": "code",
    "id": "NytIvCLQLh42",
    "outputId": "5c927932-3ba3-4b08-f6b3-ff0a46ded786"
   },
   "outputs": [
    {
     "data": {
      "text/plain": [
       "0"
      ]
     },
     "execution_count": 156,
     "metadata": {
      "tags": []
     },
     "output_type": "execute_result"
    }
   ],
   "source": [
    "# Dealing with NaNs in stringency index column\n",
    "from math import isnan\n",
    "\n",
    "for i in range(len(df)):\n",
    "    if isnan(df.loc[i, 'stringency_index']):\n",
    "        if i == 0 or df.loc[i, 'location'] != df.loc[i-1, 'location']:\n",
    "            df.loc[i, 'stringency_index'] = 0\n",
    "        else:\n",
    "            df.loc[i, 'stringency_index'] = df.loc[i-1, 'stringency_index']\n",
    "\n",
    "df['stringency_index'].isnull().sum()"
   ]
  },
  {
   "cell_type": "code",
   "execution_count": 157,
   "metadata": {
    "colab": {
     "base_uri": "https://localhost:8080/",
     "height": 501
    },
    "colab_type": "code",
    "id": "cxKz45s0iHsF",
    "outputId": "87266a21-6d70-474b-c0bc-1a021b572d32"
   },
   "outputs": [
    {
     "data": {
      "text/plain": [
       "iso_code                      0\n",
       "continent                     0\n",
       "location                      0\n",
       "date                          0\n",
       "total_cases                   0\n",
       "new_cases                     0\n",
       "total_deaths                  0\n",
       "new_deaths                    0\n",
       "total_cases_per_million       0\n",
       "new_cases_per_million         0\n",
       "total_deaths_per_million      0\n",
       "new_deaths_per_million        0\n",
       "stringency_index              0\n",
       "population                    0\n",
       "population_density            0\n",
       "median_age                    0\n",
       "aged_65_older                 0\n",
       "aged_70_older                 0\n",
       "gdp_per_capita                0\n",
       "extreme_poverty               0\n",
       "cvd_death_rate                0\n",
       "diabetes_prevalence           0\n",
       "female_smokers                0\n",
       "male_smokers                  0\n",
       "handwashing_facilities        0\n",
       "hospital_beds_per_thousand    0\n",
       "life_expectancy               0\n",
       "dtype: int64"
      ]
     },
     "execution_count": 157,
     "metadata": {
      "tags": []
     },
     "output_type": "execute_result"
    }
   ],
   "source": [
    "# Filling remaining missing values with mean of respective columns\n",
    "\n",
    "df.fillna(df.mean(), inplace=True)\n",
    "df.isnull().sum()"
   ]
  },
  {
   "cell_type": "markdown",
   "metadata": {
    "colab_type": "text",
    "id": "H8-MNjSFiSNG"
   },
   "source": [
    "**All NaNs have been removed !!!**"
   ]
  },
  {
   "cell_type": "markdown",
   "metadata": {
    "colab_type": "text",
    "id": "8NiFaYjrEw3Y"
   },
   "source": [
    "<h1>6) Total no.of deaths in India</h1>\n",
    "\n",
    "In this section I would like to see how Covid-19 affected India on a day-to-day basis."
   ]
  },
  {
   "cell_type": "code",
   "execution_count": 158,
   "metadata": {
    "colab": {
     "base_uri": "https://localhost:8080/",
     "height": 138
    },
    "colab_type": "code",
    "id": "OadaAmrxyzof",
    "outputId": "12288b84-b2f7-4dd4-cd81-0c5b0f5a9c0d"
   },
   "outputs": [
    {
     "data": {
      "text/html": [
       "<div>\n",
       "<style scoped>\n",
       "    .dataframe tbody tr th:only-of-type {\n",
       "        vertical-align: middle;\n",
       "    }\n",
       "\n",
       "    .dataframe tbody tr th {\n",
       "        vertical-align: top;\n",
       "    }\n",
       "\n",
       "    .dataframe thead th {\n",
       "        text-align: right;\n",
       "    }\n",
       "</style>\n",
       "<table border=\"1\" class=\"dataframe\">\n",
       "  <thead>\n",
       "    <tr style=\"text-align: right;\">\n",
       "      <th></th>\n",
       "      <th>date</th>\n",
       "      <th>total_deaths_per_million</th>\n",
       "    </tr>\n",
       "  </thead>\n",
       "  <tbody>\n",
       "    <tr>\n",
       "      <th>11391</th>\n",
       "      <td>2019-12-31</td>\n",
       "      <td>0.0</td>\n",
       "    </tr>\n",
       "    <tr>\n",
       "      <th>11392</th>\n",
       "      <td>2020-01-01</td>\n",
       "      <td>0.0</td>\n",
       "    </tr>\n",
       "    <tr>\n",
       "      <th>11393</th>\n",
       "      <td>2020-01-02</td>\n",
       "      <td>0.0</td>\n",
       "    </tr>\n",
       "  </tbody>\n",
       "</table>\n",
       "</div>"
      ],
      "text/plain": [
       "             date  total_deaths_per_million\n",
       "11391  2019-12-31                       0.0\n",
       "11392  2020-01-01                       0.0\n",
       "11393  2020-01-02                       0.0"
      ]
     },
     "execution_count": 158,
     "metadata": {
      "tags": []
     },
     "output_type": "execute_result"
    }
   ],
   "source": [
    "# Selecting rows that contain India's data\n",
    "india_df = df[df['location'] == 'India']\n",
    "\n",
    "# Selecting specific attributes for plotting purpose\n",
    "india_df = india_df[['date', 'total_deaths_per_million']]\n",
    "\n",
    "india_df.head(3)"
   ]
  },
  {
   "cell_type": "code",
   "execution_count": 161,
   "metadata": {
    "colab": {
     "base_uri": "https://localhost:8080/",
     "height": 410
    },
    "colab_type": "code",
    "id": "SXMKEVLFzo9w",
    "outputId": "05ea1f23-7301-4131-9f31-96efb3ef5291"
   },
   "outputs": [
    {
     "data": {
      "image/png": "[encoded data removed]",
      "text/plain": [
       "<Figure size 1296x432 with 1 Axes>"
      ]
     },
     "metadata": {
      "tags": []
     },
     "output_type": "display_data"
    }
   ],
   "source": [
    "# Plotting no.of casualties in India due to Covid-19\n",
    "\n",
    "plt.figure(figsize=(18,6))\n",
    "sns.set_style(\"white\")\n",
    "plt.xlabel(\"Date\")\n",
    "plt.ylabel(\"Total deaths per million\")\n",
    "plt.title(\"Total casualties from 31st December to 1st July\")\n",
    "\n",
    "plt.plot(india_df['date'], india_df['total_deaths_per_million'])\n",
    "plt.show()"
   ]
  },
  {
   "cell_type": "markdown",
   "metadata": {
    "colab_type": "text",
    "id": "J2_5JWLxRVU0"
   },
   "source": [
    "**From the above plot we can see how the total-deaths have increased exponentially.**"
   ]
  },
  {
   "cell_type": "code",
   "execution_count": null,
   "metadata": {
    "colab": {},
    "colab_type": "code",
    "id": "QrVdgGYhk30H"
   },
   "outputs": [],
   "source": []
  }
 ],
 "metadata": {
  "colab": {
   "collapsed_sections": [],
   "name": "mundane_assignment.ipynb",
   "provenance": []
  },
  "kernelspec": {
   "display_name": "Python 3",
   "language": "python",
   "name": "python3"
  },
  "language_info": {
   "codemirror_mode": {
    "name": "ipython",
    "version": 3
   },
   "file_extension": ".py",
   "mimetype": "text/x-python",
   "name": "python",
   "nbconvert_exporter": "python",
   "pygments_lexer": "ipython3",
   "version": "3.6.5"
  }
 },
 "nbformat": 4,
 "nbformat_minor": 1
}
